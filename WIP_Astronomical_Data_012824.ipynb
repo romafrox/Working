{
  "nbformat": 4,
  "nbformat_minor": 0,
  "metadata": {
    "colab": {
      "provenance": [],
      "authorship_tag": "ABX9TyOOMIQvRKvoltJHR414GUS/",
      "include_colab_link": true
    },
    "kernelspec": {
      "name": "python3",
      "display_name": "Python 3"
    },
    "language_info": {
      "name": "python"
    }
  },
  "cells": [
    {
      "cell_type": "markdown",
      "metadata": {
        "id": "view-in-github",
        "colab_type": "text"
      },
      "source": [
        "<a href=\"https://colab.research.google.com/github/romafrox/Working_Python/blob/main/WIP_Astronomical_Data_012824.ipynb\" target=\"_parent\"><img src=\"https://colab.research.google.com/assets/colab-badge.svg\" alt=\"Open In Colab\"/></a>"
      ]
    },
    {
      "cell_type": "code",
      "execution_count": 2,
      "metadata": {
        "id": "uFmqASggP5V5"
      },
      "outputs": [],
      "source": [
        "# Importing Libraries\n",
        "import os\n",
        "import pandas as pd\n",
        "import numpy as np\n",
        "import seaborn as sb\n",
        "import matplotlib.pyplot as mp"
      ]
    },
    {
      "cell_type": "markdown",
      "source": [
        "### Next-> Creating Pandas DataFrame from .csv Data & Summarizing the Information"
      ],
      "metadata": {
        "id": "Uj_HzauMQ3Fi"
      }
    },
    {
      "cell_type": "code",
      "source": [
        "# Peek into the data by creating pandas dataframe\n",
        "star_df = pd.read_csv('https://drive.google.com/uc?id=1BQVc6MHjQFtDC9iP1isT_K4ojVe_Oil-')\n",
        "  # ^^ Load the link to a variable, so you don't have to do read.csv() every time\n",
        "star_df.head() # Returns the first few rows of the dataframe\n",
        "star_df.sample(11) # Returns 11 samples from the data. IMP: .sample() only returns 1."
      ],
      "metadata": {
        "colab": {
          "base_uri": "https://localhost:8080/",
          "height": 390
        },
        "id": "tyQF3Q49RDoM",
        "outputId": "343d18be-ba25-42a4-8144-c56c7fda9111"
      },
      "execution_count": 7,
      "outputs": [
        {
          "output_type": "execute_result",
          "data": {
            "text/plain": [
              "     Temperature (K)  Luminosity(L/Lo)  Radius(R/Ro)  Absolute magnitude(Mv)  \\\n",
              "99             36108      198000.00000      10.20000                   -4.40   \n",
              "8               2650           0.00069       0.11000                   17.45   \n",
              "136             3091           0.00810       0.24000                   11.43   \n",
              "38              5936           1.35700       1.10600                    4.46   \n",
              "147            14732           0.00011       0.00892                   12.89   \n",
              "234            21904      748490.00000    1130.00000                   -7.67   \n",
              "20             25000           0.05600       0.00840                   10.58   \n",
              "148             7723           0.00014       0.00878                   14.81   \n",
              "30             39000      204000.00000      10.60000                   -4.70   \n",
              "217            19400       10920.00000       6.03000                   -3.08   \n",
              "64              2935           0.00014       0.11600                   18.89   \n",
              "\n",
              "     Star type    Star color Spectral Class  \n",
              "99           3          Blue              O  \n",
              "8            0           Red              M  \n",
              "136          1           Red              M  \n",
              "38           3  Yellow-White              F  \n",
              "147          2         White              F  \n",
              "234          5    Blue-White              B  \n",
              "20           2    Blue-White              B  \n",
              "148          2         White              A  \n",
              "30           3          Blue              O  \n",
              "217          3    Blue-White              B  \n",
              "64           0           Red              M  "
            ],
            "text/html": [
              "\n",
              "  <div id=\"df-02c2183d-0ff8-4dfb-94ee-c84ed795a3f4\" class=\"colab-df-container\">\n",
              "    <div>\n",
              "<style scoped>\n",
              "    .dataframe tbody tr th:only-of-type {\n",
              "        vertical-align: middle;\n",
              "    }\n",
              "\n",
              "    .dataframe tbody tr th {\n",
              "        vertical-align: top;\n",
              "    }\n",
              "\n",
              "    .dataframe thead th {\n",
              "        text-align: right;\n",
              "    }\n",
              "</style>\n",
              "<table border=\"1\" class=\"dataframe\">\n",
              "  <thead>\n",
              "    <tr style=\"text-align: right;\">\n",
              "      <th></th>\n",
              "      <th>Temperature (K)</th>\n",
              "      <th>Luminosity(L/Lo)</th>\n",
              "      <th>Radius(R/Ro)</th>\n",
              "      <th>Absolute magnitude(Mv)</th>\n",
              "      <th>Star type</th>\n",
              "      <th>Star color</th>\n",
              "      <th>Spectral Class</th>\n",
              "    </tr>\n",
              "  </thead>\n",
              "  <tbody>\n",
              "    <tr>\n",
              "      <th>99</th>\n",
              "      <td>36108</td>\n",
              "      <td>198000.00000</td>\n",
              "      <td>10.20000</td>\n",
              "      <td>-4.40</td>\n",
              "      <td>3</td>\n",
              "      <td>Blue</td>\n",
              "      <td>O</td>\n",
              "    </tr>\n",
              "    <tr>\n",
              "      <th>8</th>\n",
              "      <td>2650</td>\n",
              "      <td>0.00069</td>\n",
              "      <td>0.11000</td>\n",
              "      <td>17.45</td>\n",
              "      <td>0</td>\n",
              "      <td>Red</td>\n",
              "      <td>M</td>\n",
              "    </tr>\n",
              "    <tr>\n",
              "      <th>136</th>\n",
              "      <td>3091</td>\n",
              "      <td>0.00810</td>\n",
              "      <td>0.24000</td>\n",
              "      <td>11.43</td>\n",
              "      <td>1</td>\n",
              "      <td>Red</td>\n",
              "      <td>M</td>\n",
              "    </tr>\n",
              "    <tr>\n",
              "      <th>38</th>\n",
              "      <td>5936</td>\n",
              "      <td>1.35700</td>\n",
              "      <td>1.10600</td>\n",
              "      <td>4.46</td>\n",
              "      <td>3</td>\n",
              "      <td>Yellow-White</td>\n",
              "      <td>F</td>\n",
              "    </tr>\n",
              "    <tr>\n",
              "      <th>147</th>\n",
              "      <td>14732</td>\n",
              "      <td>0.00011</td>\n",
              "      <td>0.00892</td>\n",
              "      <td>12.89</td>\n",
              "      <td>2</td>\n",
              "      <td>White</td>\n",
              "      <td>F</td>\n",
              "    </tr>\n",
              "    <tr>\n",
              "      <th>234</th>\n",
              "      <td>21904</td>\n",
              "      <td>748490.00000</td>\n",
              "      <td>1130.00000</td>\n",
              "      <td>-7.67</td>\n",
              "      <td>5</td>\n",
              "      <td>Blue-White</td>\n",
              "      <td>B</td>\n",
              "    </tr>\n",
              "    <tr>\n",
              "      <th>20</th>\n",
              "      <td>25000</td>\n",
              "      <td>0.05600</td>\n",
              "      <td>0.00840</td>\n",
              "      <td>10.58</td>\n",
              "      <td>2</td>\n",
              "      <td>Blue-White</td>\n",
              "      <td>B</td>\n",
              "    </tr>\n",
              "    <tr>\n",
              "      <th>148</th>\n",
              "      <td>7723</td>\n",
              "      <td>0.00014</td>\n",
              "      <td>0.00878</td>\n",
              "      <td>14.81</td>\n",
              "      <td>2</td>\n",
              "      <td>White</td>\n",
              "      <td>A</td>\n",
              "    </tr>\n",
              "    <tr>\n",
              "      <th>30</th>\n",
              "      <td>39000</td>\n",
              "      <td>204000.00000</td>\n",
              "      <td>10.60000</td>\n",
              "      <td>-4.70</td>\n",
              "      <td>3</td>\n",
              "      <td>Blue</td>\n",
              "      <td>O</td>\n",
              "    </tr>\n",
              "    <tr>\n",
              "      <th>217</th>\n",
              "      <td>19400</td>\n",
              "      <td>10920.00000</td>\n",
              "      <td>6.03000</td>\n",
              "      <td>-3.08</td>\n",
              "      <td>3</td>\n",
              "      <td>Blue-White</td>\n",
              "      <td>B</td>\n",
              "    </tr>\n",
              "    <tr>\n",
              "      <th>64</th>\n",
              "      <td>2935</td>\n",
              "      <td>0.00014</td>\n",
              "      <td>0.11600</td>\n",
              "      <td>18.89</td>\n",
              "      <td>0</td>\n",
              "      <td>Red</td>\n",
              "      <td>M</td>\n",
              "    </tr>\n",
              "  </tbody>\n",
              "</table>\n",
              "</div>\n",
              "    <div class=\"colab-df-buttons\">\n",
              "\n",
              "  <div class=\"colab-df-container\">\n",
              "    <button class=\"colab-df-convert\" onclick=\"convertToInteractive('df-02c2183d-0ff8-4dfb-94ee-c84ed795a3f4')\"\n",
              "            title=\"Convert this dataframe to an interactive table.\"\n",
              "            style=\"display:none;\">\n",
              "\n",
              "  <svg xmlns=\"http://www.w3.org/2000/svg\" height=\"24px\" viewBox=\"0 -960 960 960\">\n",
              "    <path d=\"M120-120v-720h720v720H120Zm60-500h600v-160H180v160Zm220 220h160v-160H400v160Zm0 220h160v-160H400v160ZM180-400h160v-160H180v160Zm440 0h160v-160H620v160ZM180-180h160v-160H180v160Zm440 0h160v-160H620v160Z\"/>\n",
              "  </svg>\n",
              "    </button>\n",
              "\n",
              "  <style>\n",
              "    .colab-df-container {\n",
              "      display:flex;\n",
              "      gap: 12px;\n",
              "    }\n",
              "\n",
              "    .colab-df-convert {\n",
              "      background-color: #E8F0FE;\n",
              "      border: none;\n",
              "      border-radius: 50%;\n",
              "      cursor: pointer;\n",
              "      display: none;\n",
              "      fill: #1967D2;\n",
              "      height: 32px;\n",
              "      padding: 0 0 0 0;\n",
              "      width: 32px;\n",
              "    }\n",
              "\n",
              "    .colab-df-convert:hover {\n",
              "      background-color: #E2EBFA;\n",
              "      box-shadow: 0px 1px 2px rgba(60, 64, 67, 0.3), 0px 1px 3px 1px rgba(60, 64, 67, 0.15);\n",
              "      fill: #174EA6;\n",
              "    }\n",
              "\n",
              "    .colab-df-buttons div {\n",
              "      margin-bottom: 4px;\n",
              "    }\n",
              "\n",
              "    [theme=dark] .colab-df-convert {\n",
              "      background-color: #3B4455;\n",
              "      fill: #D2E3FC;\n",
              "    }\n",
              "\n",
              "    [theme=dark] .colab-df-convert:hover {\n",
              "      background-color: #434B5C;\n",
              "      box-shadow: 0px 1px 3px 1px rgba(0, 0, 0, 0.15);\n",
              "      filter: drop-shadow(0px 1px 2px rgba(0, 0, 0, 0.3));\n",
              "      fill: #FFFFFF;\n",
              "    }\n",
              "  </style>\n",
              "\n",
              "    <script>\n",
              "      const buttonEl =\n",
              "        document.querySelector('#df-02c2183d-0ff8-4dfb-94ee-c84ed795a3f4 button.colab-df-convert');\n",
              "      buttonEl.style.display =\n",
              "        google.colab.kernel.accessAllowed ? 'block' : 'none';\n",
              "\n",
              "      async function convertToInteractive(key) {\n",
              "        const element = document.querySelector('#df-02c2183d-0ff8-4dfb-94ee-c84ed795a3f4');\n",
              "        const dataTable =\n",
              "          await google.colab.kernel.invokeFunction('convertToInteractive',\n",
              "                                                    [key], {});\n",
              "        if (!dataTable) return;\n",
              "\n",
              "        const docLinkHtml = 'Like what you see? Visit the ' +\n",
              "          '<a target=\"_blank\" href=https://colab.research.google.com/notebooks/data_table.ipynb>data table notebook</a>'\n",
              "          + ' to learn more about interactive tables.';\n",
              "        element.innerHTML = '';\n",
              "        dataTable['output_type'] = 'display_data';\n",
              "        await google.colab.output.renderOutput(dataTable, element);\n",
              "        const docLink = document.createElement('div');\n",
              "        docLink.innerHTML = docLinkHtml;\n",
              "        element.appendChild(docLink);\n",
              "      }\n",
              "    </script>\n",
              "  </div>\n",
              "\n",
              "\n",
              "<div id=\"df-6814ef14-6805-40c7-8d33-f957f1bf0627\">\n",
              "  <button class=\"colab-df-quickchart\" onclick=\"quickchart('df-6814ef14-6805-40c7-8d33-f957f1bf0627')\"\n",
              "            title=\"Suggest charts\"\n",
              "            style=\"display:none;\">\n",
              "\n",
              "<svg xmlns=\"http://www.w3.org/2000/svg\" height=\"24px\"viewBox=\"0 0 24 24\"\n",
              "     width=\"24px\">\n",
              "    <g>\n",
              "        <path d=\"M19 3H5c-1.1 0-2 .9-2 2v14c0 1.1.9 2 2 2h14c1.1 0 2-.9 2-2V5c0-1.1-.9-2-2-2zM9 17H7v-7h2v7zm4 0h-2V7h2v10zm4 0h-2v-4h2v4z\"/>\n",
              "    </g>\n",
              "</svg>\n",
              "  </button>\n",
              "\n",
              "<style>\n",
              "  .colab-df-quickchart {\n",
              "      --bg-color: #E8F0FE;\n",
              "      --fill-color: #1967D2;\n",
              "      --hover-bg-color: #E2EBFA;\n",
              "      --hover-fill-color: #174EA6;\n",
              "      --disabled-fill-color: #AAA;\n",
              "      --disabled-bg-color: #DDD;\n",
              "  }\n",
              "\n",
              "  [theme=dark] .colab-df-quickchart {\n",
              "      --bg-color: #3B4455;\n",
              "      --fill-color: #D2E3FC;\n",
              "      --hover-bg-color: #434B5C;\n",
              "      --hover-fill-color: #FFFFFF;\n",
              "      --disabled-bg-color: #3B4455;\n",
              "      --disabled-fill-color: #666;\n",
              "  }\n",
              "\n",
              "  .colab-df-quickchart {\n",
              "    background-color: var(--bg-color);\n",
              "    border: none;\n",
              "    border-radius: 50%;\n",
              "    cursor: pointer;\n",
              "    display: none;\n",
              "    fill: var(--fill-color);\n",
              "    height: 32px;\n",
              "    padding: 0;\n",
              "    width: 32px;\n",
              "  }\n",
              "\n",
              "  .colab-df-quickchart:hover {\n",
              "    background-color: var(--hover-bg-color);\n",
              "    box-shadow: 0 1px 2px rgba(60, 64, 67, 0.3), 0 1px 3px 1px rgba(60, 64, 67, 0.15);\n",
              "    fill: var(--button-hover-fill-color);\n",
              "  }\n",
              "\n",
              "  .colab-df-quickchart-complete:disabled,\n",
              "  .colab-df-quickchart-complete:disabled:hover {\n",
              "    background-color: var(--disabled-bg-color);\n",
              "    fill: var(--disabled-fill-color);\n",
              "    box-shadow: none;\n",
              "  }\n",
              "\n",
              "  .colab-df-spinner {\n",
              "    border: 2px solid var(--fill-color);\n",
              "    border-color: transparent;\n",
              "    border-bottom-color: var(--fill-color);\n",
              "    animation:\n",
              "      spin 1s steps(1) infinite;\n",
              "  }\n",
              "\n",
              "  @keyframes spin {\n",
              "    0% {\n",
              "      border-color: transparent;\n",
              "      border-bottom-color: var(--fill-color);\n",
              "      border-left-color: var(--fill-color);\n",
              "    }\n",
              "    20% {\n",
              "      border-color: transparent;\n",
              "      border-left-color: var(--fill-color);\n",
              "      border-top-color: var(--fill-color);\n",
              "    }\n",
              "    30% {\n",
              "      border-color: transparent;\n",
              "      border-left-color: var(--fill-color);\n",
              "      border-top-color: var(--fill-color);\n",
              "      border-right-color: var(--fill-color);\n",
              "    }\n",
              "    40% {\n",
              "      border-color: transparent;\n",
              "      border-right-color: var(--fill-color);\n",
              "      border-top-color: var(--fill-color);\n",
              "    }\n",
              "    60% {\n",
              "      border-color: transparent;\n",
              "      border-right-color: var(--fill-color);\n",
              "    }\n",
              "    80% {\n",
              "      border-color: transparent;\n",
              "      border-right-color: var(--fill-color);\n",
              "      border-bottom-color: var(--fill-color);\n",
              "    }\n",
              "    90% {\n",
              "      border-color: transparent;\n",
              "      border-bottom-color: var(--fill-color);\n",
              "    }\n",
              "  }\n",
              "</style>\n",
              "\n",
              "  <script>\n",
              "    async function quickchart(key) {\n",
              "      const quickchartButtonEl =\n",
              "        document.querySelector('#' + key + ' button');\n",
              "      quickchartButtonEl.disabled = true;  // To prevent multiple clicks.\n",
              "      quickchartButtonEl.classList.add('colab-df-spinner');\n",
              "      try {\n",
              "        const charts = await google.colab.kernel.invokeFunction(\n",
              "            'suggestCharts', [key], {});\n",
              "      } catch (error) {\n",
              "        console.error('Error during call to suggestCharts:', error);\n",
              "      }\n",
              "      quickchartButtonEl.classList.remove('colab-df-spinner');\n",
              "      quickchartButtonEl.classList.add('colab-df-quickchart-complete');\n",
              "    }\n",
              "    (() => {\n",
              "      let quickchartButtonEl =\n",
              "        document.querySelector('#df-6814ef14-6805-40c7-8d33-f957f1bf0627 button');\n",
              "      quickchartButtonEl.style.display =\n",
              "        google.colab.kernel.accessAllowed ? 'block' : 'none';\n",
              "    })();\n",
              "  </script>\n",
              "</div>\n",
              "\n",
              "    </div>\n",
              "  </div>\n"
            ]
          },
          "metadata": {},
          "execution_count": 7
        }
      ]
    },
    {
      "cell_type": "code",
      "source": [
        "star_df.info() # Returns a Dashboard of Summarized Information"
      ],
      "metadata": {
        "colab": {
          "base_uri": "https://localhost:8080/"
        },
        "id": "oynB6OEsTDvY",
        "outputId": "541b3c4f-6818-4727-f033-cabb92acdf1a"
      },
      "execution_count": 13,
      "outputs": [
        {
          "output_type": "stream",
          "name": "stdout",
          "text": [
            "<class 'pandas.core.frame.DataFrame'>\n",
            "RangeIndex: 240 entries, 0 to 239\n",
            "Data columns (total 7 columns):\n",
            " #   Column                  Non-Null Count  Dtype  \n",
            "---  ------                  --------------  -----  \n",
            " 0   Temperature (K)         240 non-null    int64  \n",
            " 1   Luminosity(L/Lo)        240 non-null    float64\n",
            " 2   Radius(R/Ro)            240 non-null    float64\n",
            " 3   Absolute magnitude(Mv)  240 non-null    float64\n",
            " 4   Star type               240 non-null    int64  \n",
            " 5   Star color              240 non-null    object \n",
            " 6   Spectral Class          240 non-null    object \n",
            "dtypes: float64(3), int64(2), object(2)\n",
            "memory usage: 13.2+ KB\n"
          ]
        }
      ]
    },
    {
      "cell_type": "markdown",
      "source": [
        "####Non-Null tells how many data points are / aren't missing.\n",
        "\n",
        "####**This data classifies the Star Type by the other categories (Temp., Luminosity, Radius, Abs. Mag., Color, and Spect. Class)**"
      ],
      "metadata": {
        "id": "u6-dWGIPTTyi"
      }
    },
    {
      "cell_type": "markdown",
      "source": [
        "### **Observations**\n",
        "**1)** Dataset consists of 240 rows, 6 feature and 1 target columns,\n",
        "- *Absolute Temperature (in K)*    \n",
        "- *Relative Luminosity (L/Lo)*\n",
        "- *Relative Radius (R/Ro)*\n",
        "- *Absolute Magnitude (Mv)*\n",
        "- *Star Color*\n",
        "- *Spectral Class*\n",
        "- *Star Type (Target classes)*\n",
        "    \n",
        "Here,\n",
        "- *Lo = 3.828 x 10^26 Watts (Avg Luminosity of Sun)*\n",
        "- *Ro = 6.9551 x 10^8 m (Avg Radius of Sun)*\n",
        "    \n",
        "**2)** Two categorical features (object type) which will need some kind of encoding,\n",
        "- *Star Color*\n",
        "- *Spectral Class*\n",
        "\n",
        "**3)** It consists of some different features of stars. Information on the star type is given below,       \n",
        "- **0** → Brown Dwarf       \n",
        "- **1** → Red Dwarf       \n",
        "- **2** → White Dwarf      \n",
        "- **3** → Main Sequence    \n",
        "- **4** → Supergiants      \n",
        "- **5** → Hypergiants      "
      ],
      "metadata": {
        "id": "zcA-DF3QUmnl"
      }
    },
    {
      "cell_type": "markdown",
      "source": [
        "### NEXT -> Create a Directory in Python & Get the Path of the Directory"
      ],
      "metadata": {
        "id": "vIfaXoynVFfk"
      }
    },
    {
      "cell_type": "code",
      "source": [
        "# Create a Directory to save the visualization\n",
        "folder_name = 'star_plots'\n",
        "os.makedirs(folder_name, exist_ok=True) #Uses the make.dirs function of the os library to create a folder/directory\n",
        "based_dir = f'/content/{folder_name}/' #Create a path so the final vizualization(s) will easily find their place"
      ],
      "metadata": {
        "id": "TrizjaLOTk1V"
      },
      "execution_count": 11,
      "outputs": []
    },
    {
      "cell_type": "markdown",
      "source": [
        "### NEXT -> Vizualize the Count of Stsars for Each Type of Star\n",
        "  ##### Includes: Very Basic Vizualizations (i.e. Bar Graphs) & Matplotlip"
      ],
      "metadata": {
        "id": "5uCyZ9fAXBzT"
      }
    },
    {
      "cell_type": "code",
      "source": [
        "# Bar Chart to Visualize the Count of Stars w/ Respective Type\n",
        "star_df['Star type'].value_counts() # value_counts returns the count of values per star type. (would this be per data point or variable?)\n",
        "star_df['Star type'].value_counts().plot(kind='bar') # Creates a bar plot\n",
        "mp.show() # mp means matplotlib. refer to the imports at the top for refresh"
      ],
      "metadata": {
        "colab": {
          "base_uri": "https://localhost:8080/",
          "height": 442
        },
        "id": "r1tBI61PafyX",
        "outputId": "4f37fd44-71ab-4076-f32c-115bebf202c3"
      },
      "execution_count": 18,
      "outputs": [
        {
          "output_type": "execute_result",
          "data": {
            "text/plain": [
              "<Axes: >"
            ]
          },
          "metadata": {},
          "execution_count": 18
        },
        {
          "output_type": "display_data",
          "data": {
            "text/plain": [
              "<Figure size 640x480 with 1 Axes>"
            ],
            "image/png": "[encoded data removed]"
          },
          "metadata": {}
        }
      ]
    },
    {
      "cell_type": "markdown",
      "source": [
        "## Customize and Save\n",
        "\n",
        "*   Adjust the size of the figure according to your convinience\n",
        "*   Add the value of counts on top of bars\n",
        "*   Set the background to dark\n",
        "*   Change the color of each bar\n",
        "*   Add a title\n",
        "*   Add y label and change color of y ticks\n",
        "*   Replace x ticks from 0, 1, 2, 3, 4, 5 to respective names of star type\n",
        "*   Save the plots in base directory"
      ],
      "metadata": {
        "id": "LpVbpEsedxGh"
      }
    },
    {
      "cell_type": "code",
      "source": [
        "# Customize the Plot\n",
        "mp.figure(figsize=(4.3,4.3))\n",
        "# Changes the figure size\n",
        "mp.style.use('default')\n",
        "# Changes the theme color\n",
        "ax = star_df['Star type'].value_counts().plot(kind='bar', color=['red','orange','yellow','green','blue','indigo']) # Loads the bar plot into ax & assigns colors to the bars\n",
        "ax.bar_label(ax.containers[0], color='red') # Labels the top of the bars with their respective counts & changes the color\n",
        "mp.title('Visualize Star Count per Star Type', weight= 'bold') # Assigns a title and changes the font weight\n",
        "# mp.yticks() allows you to format the ticks on the y axis. This is the same for the x axis with mp.xticks (SEE BELOW)\n",
        "mp.xticks(ticks= [0,1,2,3,4,5], # Identify which ticks to be transformed\n",
        "          labels=['Brown\\nDwarf','Red\\nDwarf', 'White\\nDwarf', 'Main\\nSequence', 'Supergiants', 'Hypergiants'], # Changes the tick names to the following\n",
        "          rotation= 30) # Changes the orientation of the labels\n",
        "mp.ylabel('# of Stars', color= 'blue', fontsize= 12, weight= 'bold') # Adds a title for the yaxis, adds a color, font-size and weight.\n",
        "mp.savefig(based_dir+'barplot_star.png') # Saves the figure to the star_plots folder -> /content/star_plots\n",
        "mp.show() # mp means matplotlib. refer to the imports at the top for refresh"
      ],
      "metadata": {
        "colab": {
          "base_uri": "https://localhost:8080/",
          "height": 460
        },
        "id": "_9Zh0BqmeAy9",
        "outputId": "2bafaeb3-4dc1-48f8-85ce-c05c96bb7220"
      },
      "execution_count": 52,
      "outputs": [
        {
          "output_type": "display_data",
          "data": {
            "text/plain": [
              "<Figure size 430x430 with 1 Axes>"
            ],
            "image/png": "[encoded data removed]"
          },
          "metadata": {}
        }
      ]
    },
    {
      "cell_type": "markdown",
      "source": [
        "### STOPPED VIDEO @ 2:31:26\n",
        "Seaborn Section is Next.\n",
        "\n",
        "Video: https://www.youtube.com/watch?v=H9KefzbryEw&t=1s\n",
        "\n",
        "freeCodeCamp: https://www.freecodecamp.org/news/learn-data-analysis-and-visualization-with-python-using-astrongomical-data/"
      ],
      "metadata": {
        "id": "4HhIOtmqm9Jk"
      }
    }
  ]
}