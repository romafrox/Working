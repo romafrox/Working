{
  "nbformat": 4,
  "nbformat_minor": 0,
  "metadata": {
    "colab": {
      "provenance": []
    },
    "kernelspec": {
      "name": "python3",
      "display_name": "Python 3"
    },
    "language_info": {
      "name": "python"
    }
  },
  "cells": [
    {
      "cell_type": "code",
      "execution_count": null,
      "metadata": {
        "id": "tDCIxjlnOquD"
      },
      "outputs": [],
      "source": []
    },
    {
      "cell_type": "markdown",
      "source": [
        "# Python Basics for Astronomy"
      ],
      "metadata": {
        "id": "nR2pbip7PAnh"
      }
    },
    {
      "cell_type": "code",
      "source": [
        "# My first code in Python\n",
        "print(\"Hello World!\")"
      ],
      "metadata": {
        "colab": {
          "base_uri": "https://localhost:8080/"
        },
        "id": "MAUsH0kHPJc2",
        "outputId": "96f2ada3-c336-4cdc-8305-99b92697462e"
      },
      "execution_count": 1,
      "outputs": [
        {
          "output_type": "stream",
          "name": "stdout",
          "text": [
            "Hello World!\n"
          ]
        }
      ]
    },
    {
      "cell_type": "markdown",
      "source": [
        "### 1. Comments"
      ],
      "metadata": {
        "id": "RmPdN5UMPq96"
      }
    },
    {
      "cell_type": "code",
      "source": [
        "# Selected the text below and pressed command + /\n",
        "# Hello\n",
        "# my\n",
        "# name\n",
        "# is\n",
        "# astro"
      ],
      "metadata": {
        "id": "rVh11z6XQEdJ"
      },
      "execution_count": null,
      "outputs": []
    },
    {
      "cell_type": "markdown",
      "source": [
        "**Above**: Command + Forward Slash [ / ] -> inserts a hashtag before any selected words\n",
        "**Below**: Triple \" \" \" lets you leave comments in between \" \" \""
      ],
      "metadata": {
        "id": "klEgPhDjQNBV"
      }
    },
    {
      "cell_type": "code",
      "source": [
        "\"\"\"\n",
        "This is my first line of comment\n",
        "This is my second line of comment\n",
        "\"\"\""
      ],
      "metadata": {
        "id": "sYrTRmbVPzR7"
      },
      "execution_count": null,
      "outputs": []
    },
    {
      "cell_type": "markdown",
      "source": [
        "### 2. Variables and Constants"
      ],
      "metadata": {
        "id": "RpXVx5FzRCGs"
      }
    },
    {
      "cell_type": "code",
      "source": [
        "# variables\n",
        "x = 4\n",
        "y = 5\n",
        "print(x+x+y+x+y)\n",
        "# cosntants; are\n",
        "X = 4\n",
        "Y = 5"
      ],
      "metadata": {
        "colab": {
          "base_uri": "https://localhost:8080/"
        },
        "id": "ABtKFWo2RFgH",
        "outputId": "ba0fbd98-eb90-458b-aef4-f7aa2d9407c7"
      },
      "execution_count": 2,
      "outputs": [
        {
          "output_type": "stream",
          "name": "stdout",
          "text": [
            "22\n"
          ]
        }
      ]
    },
    {
      "cell_type": "markdown",
      "source": [
        "### 3. Basic Data Types (Strings, Integers, and Floats)"
      ],
      "metadata": {
        "id": "CCKKe0tdSI1-"
      }
    },
    {
      "cell_type": "code",
      "source": [
        "# Create variables to store the information about a planet in our Solar System\n",
        "planet_name = \"Venus\"\n",
        "planet_name\n",
        "planet1_name = ''' Planet Name: - Venus\n",
        "This is the second planet in our Solar System '''\n",
        "# You can use either triple ' or \" to write multiple lines of comments/strings\n",
        "planet_age = '4.6 Billion Years'\n",
        "planet_index = 1  # In Python, index starts from 0. Hence, Venus is on Index 1 after Mercury on Index 0."
      ],
      "metadata": {
        "id": "W90nEB4uSLFL"
      },
      "execution_count": 5,
      "outputs": []
    },
    {
      "cell_type": "code",
      "source": [
        "# Displaying the data values for the data types\n",
        "print(planet_name)\n",
        "print(planet_age)\n",
        "print(planet_index)"
      ],
      "metadata": {
        "colab": {
          "base_uri": "https://localhost:8080/"
        },
        "id": "r_UlRhy-T-4S",
        "outputId": "9cd02213-77da-49d3-fccc-739262f81bdf"
      },
      "execution_count": 6,
      "outputs": [
        {
          "output_type": "stream",
          "name": "stdout",
          "text": [
            "Venus\n",
            "4.6 Billion Years\n",
            "1\n"
          ]
        }
      ]
    },
    {
      "cell_type": "code",
      "source": [
        "# Checking the types of variables by using type() command\n",
        "print(type(planet_name))\n",
        "print(type(planet_age))\n",
        "print(type(planet_index))"
      ],
      "metadata": {
        "colab": {
          "base_uri": "https://localhost:8080/"
        },
        "id": "WHG4KWYLUciL",
        "outputId": "ad880512-12e7-47c7-d2a6-14121373f747"
      },
      "execution_count": 9,
      "outputs": [
        {
          "output_type": "stream",
          "name": "stdout",
          "text": [
            "<class 'str'>\n",
            "<class 'str'>\n",
            "<class 'int'>\n"
          ]
        }
      ]
    },
    {
      "cell_type": "code",
      "source": [
        "z = 3.2\n",
        "print(type(z))"
      ],
      "metadata": {
        "colab": {
          "base_uri": "https://localhost:8080/"
        },
        "id": "O-hf4a8kVRaT",
        "outputId": "50c6b37a-8f81-4971-f127-5a0f69471b95"
      },
      "execution_count": 10,
      "outputs": [
        {
          "output_type": "stream",
          "name": "stdout",
          "text": [
            "<class 'float'>\n"
          ]
        }
      ]
    },
    {
      "cell_type": "markdown",
      "source": [
        "### 4. F-strings"
      ],
      "metadata": {
        "id": "vwEO6NUoVhrL"
      }
    },
    {
      "cell_type": "code",
      "source": [
        "# Understanding the power of f'strings\n",
        "name_planet = \"Saturn\"\n",
        "moons_planet = 150\n",
        "print(f'Planet {name_planet} has {moons_planet} Moons')"
      ],
      "metadata": {
        "colab": {
          "base_uri": "https://localhost:8080/"
        },
        "id": "h-50u_d0Vl2U",
        "outputId": "c84babaa-a232-42db-c619-8a32774091c2"
      },
      "execution_count": 14,
      "outputs": [
        {
          "output_type": "stream",
          "name": "stdout",
          "text": [
            "Planet Saturn has 150 Moons\n"
          ]
        }
      ]
    },
    {
      "cell_type": "code",
      "source": [
        "# String concatenation\n",
        "str_1 = \"Earth is the only planet with life.\"\n",
        "str_2 = \"Maybe not! :D:\"\n",
        "print(str_1 + \" \" + str_2) # this is one way to join the two strings BUT there's another way...\n",
        "print(f'{str_1} {str_2}') # this way incorporates the f'string and is simpler than above."
      ],
      "metadata": {
        "colab": {
          "base_uri": "https://localhost:8080/"
        },
        "id": "goNN7zvKWYH_",
        "outputId": "b8056c4d-a728-4ebb-8187-11e7cc7cd4a2"
      },
      "execution_count": 18,
      "outputs": [
        {
          "output_type": "stream",
          "name": "stdout",
          "text": [
            "Earth is the only planet with life. Maybe not! :D:\n",
            "Earth is the only planet with life. Maybe not! :D:\n"
          ]
        }
      ]
    },
    {
      "cell_type": "markdown",
      "source": [
        "### 5. User Inputs"
      ],
      "metadata": {
        "id": "6Ownr52AXpHU"
      }
    },
    {
      "cell_type": "code",
      "source": [
        "# Use input() to take user inputs\n",
        "user_name = input(\"Enter your name: \") #input() doesn't fully work if you don't assign it to a variable (e.g. user_name); Also it's best if you assign some sort of string to inform what type of input is requested '''"
      ],
      "metadata": {
        "colab": {
          "base_uri": "https://localhost:8080/"
        },
        "id": "SnR1Y-D2Xt4x",
        "outputId": "3c35d21e-d3bd-4936-996a-7a0014c7bab7"
      },
      "execution_count": 23,
      "outputs": [
        {
          "name": "stdout",
          "output_type": "stream",
          "text": [
            "Enter your name: Roman\n"
          ]
        }
      ]
    },
    {
      "cell_type": "code",
      "source": [
        "# Displaying the variable and its type given by the user\n",
        "print(user_name)\n",
        "print(type(user_name))"
      ],
      "metadata": {
        "colab": {
          "base_uri": "https://localhost:8080/"
        },
        "id": "kaw092FVY8Yv",
        "outputId": "5bb947e6-233a-4ceb-ef4e-16c0097e5b8a"
      },
      "execution_count": 24,
      "outputs": [
        {
          "output_type": "stream",
          "name": "stdout",
          "text": [
            "Roman\n",
            "<class 'str'>\n"
          ]
        }
      ]
    },
    {
      "cell_type": "code",
      "source": [
        "# Ask user to input their fave number\n",
        "user_favenumber = input(\"Enter your fave number: \")"
      ],
      "metadata": {
        "colab": {
          "base_uri": "https://localhost:8080/"
        },
        "id": "RwVgMxtFZG79",
        "outputId": "b1846e58-dccf-45af-f556-478022d7607d"
      },
      "execution_count": 25,
      "outputs": [
        {
          "name": "stdout",
          "output_type": "stream",
          "text": [
            "Enter your fave number: 4\n"
          ]
        }
      ]
    },
    {
      "cell_type": "code",
      "source": [
        "# Display the variable and its type given by the user\n",
        "print(user_favenumber)\n",
        "print(type(user_favenumber))"
      ],
      "metadata": {
        "colab": {
          "base_uri": "https://localhost:8080/"
        },
        "id": "mWskkiiBZp9m",
        "outputId": "3f5d2462-ca71-4de8-d064-cabbc4a56c4f"
      },
      "execution_count": 26,
      "outputs": [
        {
          "output_type": "stream",
          "name": "stdout",
          "text": [
            "4\n",
            "<class 'str'>\n"
          ]
        }
      ]
    },
    {
      "cell_type": "markdown",
      "source": [
        "### 6. Data Type Conversion"
      ],
      "metadata": {
        "id": "cNbac_CIcgRi"
      }
    },
    {
      "cell_type": "code",
      "source": [
        "# Commands to convert --> str(input), int(input), float(input)\n",
        "\n",
        "# Convert a string data into integer and float\n",
        "  #print(type(user_favenumber)) -> Useless?\n",
        "str_to_int = int(user_favenumber)\n",
        "print(str_to_int)\n",
        "print(type(str_to_int))"
      ],
      "metadata": {
        "colab": {
          "base_uri": "https://localhost:8080/"
        },
        "id": "DVRXNrCocOQK",
        "outputId": "9224f231-020b-4ffa-fb3a-34167efbb446"
      },
      "execution_count": 28,
      "outputs": [
        {
          "output_type": "stream",
          "name": "stdout",
          "text": [
            "4\n",
            "<class 'int'>\n"
          ]
        }
      ]
    },
    {
      "cell_type": "code",
      "source": [
        "# string numbers with decimals ('4.5) can't be converted straight into integers, they must be converted into floats then integers\n",
        "  # example:\n",
        "  #wrong: str_to_int1 = int('3.9')\n",
        "  #correct: str_to_int1 = int(float('3.9'))\n",
        "\n",
        "str_to_int1 = int(float('3.9'))\n",
        "print(str_to_int1)\n",
        "print(type(str_to_int1))\n",
        "\n",
        "str_to_float = float(user_favenumber) # as above states, user_favenumber was a str, now it's becoming a float (4.0)\n",
        "print(str_to_float)\n",
        "print(type(str_to_float))"
      ],
      "metadata": {
        "colab": {
          "base_uri": "https://localhost:8080/"
        },
        "id": "HtCfdeh1eX6A",
        "outputId": "83696176-301b-4669-b9e5-995c1c940fb9"
      },
      "execution_count": 33,
      "outputs": [
        {
          "output_type": "stream",
          "name": "stdout",
          "text": [
            "3\n",
            "<class 'int'>\n",
            "4.0\n",
            "<class 'float'>\n"
          ]
        }
      ]
    },
    {
      "cell_type": "code",
      "source": [
        "# Get user input of two different integers and add them together\n",
        "n1 = int(input('Give any integer number: '))\n",
        "n2 = int(input('Give one more integer: '))\n",
        "print(f'The sum of {n1} and {n2} is {n1+n2}')"
      ],
      "metadata": {
        "colab": {
          "base_uri": "https://localhost:8080/"
        },
        "id": "fzsPUbnfhAPY",
        "outputId": "2d2e9ccc-b122-4925-e03e-88e04bb3ea91"
      },
      "execution_count": 34,
      "outputs": [
        {
          "output_type": "stream",
          "name": "stdout",
          "text": [
            "Give any integer number: 8\n",
            "Give one more integer: 7\n",
            "The sum of 8 and 7 is 15\n"
          ]
        }
      ]
    },
    {
      "cell_type": "markdown",
      "source": [
        "### 7. Control Flow (Loops, For Loops & More)\n",
        "  * For Loop and While Loop\n",
        "  * Condition Statements"
      ],
      "metadata": {
        "id": "HIapLUXPndQV"
      }
    },
    {
      "cell_type": "code",
      "source": [
        "# range (start, end, skip) ---> Star is inclusive and end is exclusive. I.e. start includes that number, but end doesn't.\n",
        "range(1,11)"
      ],
      "metadata": {
        "colab": {
          "base_uri": "https://localhost:8080/"
        },
        "id": "9g4TfgeapVz3",
        "outputId": "db0734a1-685c-4c41-b506-0d3789a665a9"
      },
      "execution_count": 52,
      "outputs": [
        {
          "output_type": "execute_result",
          "data": {
            "text/plain": [
              "range(1, 11)"
            ]
          },
          "metadata": {},
          "execution_count": 52
        }
      ]
    },
    {
      "cell_type": "code",
      "source": [
        "for n in range(10):\n",
        "  print (n)\n",
        "\n",
        "#for index in [0,1,2,3,4]:\n",
        "  #print(index)'''\n",
        "\n"
      ],
      "metadata": {
        "colab": {
          "base_uri": "https://localhost:8080/"
        },
        "id": "OUN79VoUnnUg",
        "outputId": "ee05a0ed-163e-487c-dd2d-d267a908d3ee"
      },
      "execution_count": 48,
      "outputs": [
        {
          "output_type": "stream",
          "name": "stdout",
          "text": [
            "0\n",
            "1\n",
            "2\n",
            "3\n",
            "4\n",
            "5\n",
            "6\n",
            "7\n",
            "8\n",
            "9\n"
          ]
        }
      ]
    },
    {
      "cell_type": "code",
      "source": [
        "# While Loop\n",
        "\n",
        "ct = 0\n",
        "\n",
        "# The following below wouldn't work because the conditions aren't fully expressed. One's fave CO will infinitely be asked.\n",
        "# while condition:\n",
        "#   obj = input(f'Enter your fave Celestial Object {ct+1}: ')\n",
        "\n",
        "print('---Type \"quit\" or \"stop\" to exit!')\n",
        "while True:\n",
        "  obj = input(f'Enter your fave Celestial Object {ct+1}: ')\n",
        "  ct += 1\n",
        "  if obj.lower == 'quit' or obj.lower == 'stop': #.lower function automatically converts the variable into lowercase. vice versa goes for .upper\n",
        "    break\n"
      ],
      "metadata": {
        "colab": {
          "base_uri": "https://localhost:8080/"
        },
        "id": "-CM5dPTmqTVb",
        "outputId": "f67b2c8f-2187-4bb3-d2b7-eef5cc0deb00"
      },
      "execution_count": 53,
      "outputs": [
        {
          "name": "stdout",
          "output_type": "stream",
          "text": [
            "---Type \"quit\" or \"stop\" to exit!\n",
            "Enter your fave Celestial Object 1: Quasar\n",
            "Enter your fave Celestial Object 2: White Dwarf\n",
            "Enter your fave Celestial Object 3: Black Hole\n",
            "Enter your fave Celestial Object 4: Gas Clusters\n",
            "Enter your fave Celestial Object 5: stop\n"
          ]
        }
      ]
    },
    {
      "cell_type": "markdown",
      "source": [
        "### 8. Functions!!!"
      ],
      "metadata": {
        "id": "5QtqXRaRyuPQ"
      }
    },
    {
      "cell_type": "code",
      "source": [
        "# Much like in mathematics, Python allows one to assign a value in order to achieve something else. e.g., f(x) = 3x^2 + 2x + 3 ; x = 4\n",
        "\n",
        "# Creating a function to greet astronomy fans without any input arguments or conditions\n",
        "def greet():\n",
        "  print('Hey Astrophiles!')"
      ],
      "metadata": {
        "id": "QvLqCn61y15F"
      },
      "execution_count": 54,
      "outputs": []
    },
    {
      "cell_type": "code",
      "source": [
        "# Call the above function\n",
        "greet()"
      ],
      "metadata": {
        "colab": {
          "base_uri": "https://localhost:8080/"
        },
        "id": "s4uBIBH70Ldf",
        "outputId": "39e55403-37d4-4f51-f09d-922383747efc"
      },
      "execution_count": 55,
      "outputs": [
        {
          "output_type": "stream",
          "name": "stdout",
          "text": [
            "Hey Astrophiles!\n"
          ]
        }
      ]
    },
    {
      "cell_type": "code",
      "source": [
        "# Define a function to greet a person whose name will given as an input\n",
        "#WRONG: greet(input('Your name: ')) # don't want to over\n",
        "def greet_person(name):\n",
        "  print(f'Hey {name}, I hope you are enjoying this session and learning a lot of things in Python!')"
      ],
      "metadata": {
        "id": "mAIqsvl_0UYB"
      },
      "execution_count": 56,
      "outputs": []
    },
    {
      "cell_type": "code",
      "source": [
        "#Call the above function\n",
        "greet_person('Roman')"
      ],
      "metadata": {
        "colab": {
          "base_uri": "https://localhost:8080/"
        },
        "id": "bEqnaydh3U0w",
        "outputId": "b52e10b9-c44a-42d0-9718-cc59de060ef5"
      },
      "execution_count": 58,
      "outputs": [
        {
          "output_type": "stream",
          "name": "stdout",
          "text": [
            "Hey Roman, I hope you are enjoying this session and learning a lot of things in Python!\n"
          ]
        }
      ]
    },
    {
      "cell_type": "code",
      "source": [
        "# Positional Arguments\n",
        "def greeting(name, msg):\n",
        "  print(f'Hey {name}, {msg}')\n",
        "\n",
        "# ONE MUST ALWAYS ABIDE BY THE POSTIION OF THE ARGUMENTS IN THE FUNCTION. DON'T SWAP THEM UNLESS YOU LABEL THEM AS SUCH\n",
        "  # CORRECT: greeting(msg= you're so sexy. ;), name= Milo) --> *** This is an example of a keyword argument ***\n",
        "  # WRONG: greeting(you're so sexy. ;), Milo) --> This doesn't work because name must come first. Unless you label them as above. ^^^"
      ],
      "metadata": {
        "id": "jONJkQxW4Bum"
      },
      "execution_count": 59,
      "outputs": []
    },
    {
      "cell_type": "code",
      "source": [
        "# Call the above function\n",
        "greeting('Milo', \"you're so sexy. ;)\")"
      ],
      "metadata": {
        "colab": {
          "base_uri": "https://localhost:8080/"
        },
        "id": "lHUMl07o4xql",
        "outputId": "d1045ece-28b4-43a4-e683-c1bab088a4f7"
      },
      "execution_count": 62,
      "outputs": [
        {
          "output_type": "stream",
          "name": "stdout",
          "text": [
            "Hey Milo, you're so sexy. ;)\n"
          ]
        }
      ]
    },
    {
      "cell_type": "code",
      "source": [
        "# Positional argument\n",
        "greeting('Milo', \"you're so sexy. ;)\")\n",
        "# Keyword argument\n",
        "greeting(msg = \"You're so sexy. ;)\", name = \"Milo\")\n",
        "### IMPORTANT ---> They output the same thing, but their setup is different. PAY ATTENTION TO THIS."
      ],
      "metadata": {
        "colab": {
          "base_uri": "https://localhost:8080/"
        },
        "id": "AFU-n3aE60a1",
        "outputId": "0814257e-aa12-4c7a-80ae-fbc3d95276c3"
      },
      "execution_count": 64,
      "outputs": [
        {
          "output_type": "stream",
          "name": "stdout",
          "text": [
            "Hey Milo, you're so sexy. ;)\n",
            "Hey Milo, You're so sexy. ;)\n"
          ]
        }
      ]
    },
    {
      "cell_type": "code",
      "source": [
        "# Default argument\n",
        "def greeting_with_default_args(name, msg='welcome, you little bitch!'):\n",
        "  print(f'Hey {name}, {msg}')"
      ],
      "metadata": {
        "id": "hbLp6SzE7AnE"
      },
      "execution_count": 67,
      "outputs": []
    },
    {
      "cell_type": "code",
      "source": [
        "greeting_with_default_args('Roman')"
      ],
      "metadata": {
        "colab": {
          "base_uri": "https://localhost:8080/"
        },
        "id": "per5Cfls8R5w",
        "outputId": "42cfa687-8b7e-4099-a142-112dc23a004d"
      },
      "execution_count": 68,
      "outputs": [
        {
          "output_type": "stream",
          "name": "stdout",
          "text": [
            "Hey Roman, welcome, you little bitch!\n"
          ]
        }
      ]
    },
    {
      "cell_type": "code",
      "source": [
        "## IMPORTANT: Always write positional arguments BEFORE keyword arguments. Post. Non-default argument follows default argument\n",
        "  ## WRONG: greeting_with_default_args(msg= \"What's up?\", 'Mikey')\n",
        "  ## CORRECT: greeting_with_default_args('Mikey', msg= \"What's up?\")"
      ],
      "metadata": {
        "id": "gdd6YN1m8oqh"
      },
      "execution_count": null,
      "outputs": []
    },
    {
      "cell_type": "code",
      "source": [
        "# Create a function that will either add, subtract, multiply or divide two numbers\n",
        "def basic_calc(n1, n2, operation):\n",
        "  \"\"\"\n",
        "  Creates a basic calculator tht takes n1 and n2 in the same order and performs either of:\n",
        "    - add\n",
        "    - subtract\n",
        "    - multiply\n",
        "    - divide\n",
        "\n",
        "    Parameters -\n",
        "    n1 - first number\n",
        "    n2 - second number\n",
        "    operations - any of the operations mentioned above for basic_calc\n",
        "\n",
        "    Return -\n",
        "    The output of the operations done on n1 and n2\n",
        "  \"\"\"\n",
        "  if operation.lower() == 'add':\n",
        "    return n1+n2\n",
        "  elif operation.lower() == 'subtract':\n",
        "    return n1-n2\n",
        "  elif operation.lower() == 'multiply':\n",
        "    return n1*n2\n",
        "  elif operation.lower() == 'divide':\n",
        "    return n1/n2\n",
        "  else:\n",
        "    print(f'Operation input can only be: add, subtract, multiply or divide. You gave {operation}. Please try again.')"
      ],
      "metadata": {
        "id": "iNcf8SzT9dOU"
      },
      "execution_count": 71,
      "outputs": []
    },
    {
      "cell_type": "code",
      "source": [
        "addition = basic_calc(2, 3, 'add')\n",
        "print(addition)"
      ],
      "metadata": {
        "colab": {
          "base_uri": "https://localhost:8080/"
        },
        "id": "7trOeNIiHoZT",
        "outputId": "bb580151-cf70-4346-be86-3d926ff93ff5"
      },
      "execution_count": 76,
      "outputs": [
        {
          "output_type": "stream",
          "name": "stdout",
          "text": [
            "5\n"
          ]
        }
      ]
    },
    {
      "cell_type": "code",
      "source": [
        "multiply = basic_calc(3,3,'multiply')\n",
        "print(multiply)"
      ],
      "metadata": {
        "colab": {
          "base_uri": "https://localhost:8080/"
        },
        "id": "EZyrycOQIoag",
        "outputId": "8f42b35f-9ad9-4115-e6df-117d0eecc825"
      },
      "execution_count": 78,
      "outputs": [
        {
          "output_type": "stream",
          "name": "stdout",
          "text": [
            "9\n"
          ]
        }
      ]
    }
  ]
}